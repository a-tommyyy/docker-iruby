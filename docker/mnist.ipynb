{
 "cells": [
  {
   "cell_type": "code",
   "execution_count": 10,
   "metadata": {},
   "outputs": [
    {
     "data": {
      "text/plain": [
       "false"
      ]
     },
     "execution_count": 10,
     "metadata": {},
     "output_type": "execute_result"
    }
   ],
   "source": [
    "require 'chainer'\n",
    "require 'fileutils'\n",
    "require 'optparse'\n",
    "require 'tmpdir'"
   ]
  },
  {
   "cell_type": "code",
   "execution_count": 11,
   "metadata": {},
   "outputs": [
    {
     "data": {
      "text/plain": [
       ":call"
      ]
     },
     "execution_count": 11,
     "metadata": {},
     "output_type": "execute_result"
    }
   ],
   "source": [
    "class MLP < Chainer::Chain\n",
    "  L = Chainer::Links::Connection::Linear\n",
    "  R = Chainer::Functions::Activation::Relu\n",
    "\n",
    "  def initialize(n_units, n_out)\n",
    "    super()\n",
    "    init_scope do\n",
    "      @l1 = L.new(nil, out_size: n_units)\n",
    "      @l2 = L.new(nil, out_size: n_units)\n",
    "      @l3 = L.new(nil, out_size: n_out)\n",
    "    end\n",
    "  end\n",
    "\n",
    "  def call(x)\n",
    "    h1 = R.relu(@l1.(x))\n",
    "    h2 = R.relu(@l2.(h1))\n",
    "    @l3.(h2)\n",
    "  end\n",
    "end"
   ]
  },
  {
   "cell_type": "code",
   "execution_count": 12,
   "metadata": {},
   "outputs": [
    {
     "data": {
      "text/plain": [
       "{:batchsize=>100, :frequency=>-1, :epoch=>20, :resume=>nil, :unit=>1000, :out=>\"result\"}"
      ]
     },
     "execution_count": 12,
     "metadata": {},
     "output_type": "execute_result"
    }
   ],
   "source": [
    "args = {\n",
    "  batchsize: 100,\n",
    "  frequency: -1,\n",
    "  epoch: 20,\n",
    "  resume: nil,\n",
    "  unit: 1000,\n",
    "  out: 'result'\n",
    "}"
   ]
  },
  {
   "cell_type": "code",
   "execution_count": 13,
   "metadata": {},
   "outputs": [
    {
     "name": "stdout",
     "output_type": "stream",
     "text": [
      "Downloading from http://yann.lecun.com/exdb/mnist/train-images-idx3-ubyte.gz\n",
      "Downloading from http://yann.lecun.com/exdb/mnist/train-labels-idx1-ubyte.gz\n",
      "Downloading from http://yann.lecun.com/exdb/mnist/t10k-images-idx3-ubyte.gz\n",
      "Downloading from http://yann.lecun.com/exdb/mnist/t10k-labels-idx1-ubyte.gz\n"
     ]
    },
    {
     "data": {
      "text/plain": [
       "#<Chainer::Training::ExtensionEntry:0x000055853c010678 @extension=#<Chainer::Training::Extensions::ProgressBar:0x000055853c010a60 @training_length=nil, @status_template=nil, @update_interval=100, @bar_length=50, @out=#<IO:<STDOUT>>, @recent_timing=[], @name=\"Chainer::Training::Extensions::ProgressBar\">, @trigger=#<Chainer::Training::Triggers::IntervalTrigger:0x000055853c0108d0 @period=1, @unit=\"iteration\", @count=0, @previous_iteration=0, @previous_epoch_detail=0.0>, @invoke_before_training=false, @priority=100>"
      ]
     },
     "execution_count": 13,
     "metadata": {},
     "output_type": "execute_result"
    }
   ],
   "source": [
    "model = Chainer::Links::Model::Classifier.new(MLP.new(args[:unit], 10))\n",
    "\n",
    "optimizer = Chainer::Optimizers::Adam.new\n",
    "optimizer.setup(model)\n",
    "train, test = Chainer::Datasets::Mnist.get_mnist\n",
    "\n",
    "train_iter = Chainer::Iterators::SerialIterator.new(train, args[:batchsize])\n",
    "test_iter = Chainer::Iterators::SerialIterator.new(test, args[:batchsize], repeat: false, shuffle: false)\n",
    "\n",
    "updater = Chainer::Training::StandardUpdater.new(train_iter, optimizer, device: -1)\n",
    "trainer = Chainer::Training::Trainer.new(updater, stop_trigger: [args[:epoch], 'epoch'], out: args[:out])\n",
    "\n",
    "trainer.extend(Chainer::Training::Extensions::Evaluator.new(test_iter, model, device: -1))\n",
    "\n",
    "# Take a snapshot for each specified epoch\n",
    "frequency = args[:frequency] == -1 ? args[:epoch] : [1, args[:frequency]].max\n",
    "trainer.extend(Chainer::Training::Extensions::Snapshot.new, trigger: [frequency, 'epoch'], priority: -100)\n",
    "\n",
    "trainer.extend(Chainer::Training::Extensions::LogReport.new)\n",
    "trainer.extend(Chainer::Training::Extensions::PrintReport.new(['epoch', 'main/loss', 'validation/main/loss', 'main/accuracy', 'validation/main/accuracy', 'elapsed_time']))\n",
    "trainer.extend(Chainer::Training::Extensions::ProgressBar.new)"
   ]
  },
  {
   "cell_type": "code",
   "execution_count": 14,
   "metadata": {},
   "outputs": [],
   "source": [
    "if args[:resume]\n",
    "  Chainer::Serializers::MarshalDeserializer.load_file(args[:resume], trainer)\n",
    "end"
   ]
  },
  {
   "cell_type": "code",
   "execution_count": 15,
   "metadata": {},
   "outputs": [
    {
     "data": {
      "text/plain": [
       "true"
      ]
     },
     "execution_count": 15,
     "metadata": {},
     "output_type": "execute_result"
    }
   ],
   "source": [
    "trainer.run"
   ]
  }
 ],
 "metadata": {
  "kernelspec": {
   "display_name": "Ruby 2.5.1",
   "language": "ruby",
   "name": "ruby"
  },
  "language_info": {
   "file_extension": ".rb",
   "mimetype": "application/x-ruby",
   "name": "ruby",
   "version": "2.5.1"
  }
 },
 "nbformat": 4,
 "nbformat_minor": 2
}
